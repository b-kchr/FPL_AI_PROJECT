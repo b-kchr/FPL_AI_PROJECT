{
  "nbformat": 4,
  "nbformat_minor": 0,
  "metadata": {
    "colab": {
      "provenance": [],
      "authorship_tag": "ABX9TyMJrolktJucw/ZEhKu7XXhU",
      "include_colab_link": true
    },
    "kernelspec": {
      "name": "python3",
      "display_name": "Python 3"
    },
    "language_info": {
      "name": "python"
    }
  },
  "cells": [
    {
      "cell_type": "markdown",
      "metadata": {
        "id": "view-in-github",
        "colab_type": "text"
      },
      "source": [
        "<a href=\"https://colab.research.google.com/github/mpily/FPL_AI_PROJECT/blob/main/Sol1simplelinreg.ipynb\" target=\"_parent\"><img src=\"https://colab.research.google.com/assets/colab-badge.svg\" alt=\"Open In Colab\"/></a>"
      ]
    },
    {
      "cell_type": "code",
      "execution_count": 11,
      "metadata": {
        "id": "gEybFvT2Ri8l",
        "colab": {
          "base_uri": "https://localhost:8080/"
        },
        "outputId": "206482dc-a2ce-40bd-83a7-1572eb616a69"
      },
      "outputs": [
        {
          "output_type": "stream",
          "name": "stdout",
          "text": [
            "Drive already mounted at /content/drive; to attempt to forcibly remount, call drive.mount(\"/content/drive\", force_remount=True).\n"
          ]
        }
      ],
      "source": [
        "from google.colab import drive\n",
        "drive.mount('/content/drive')"
      ]
    },
    {
      "cell_type": "code",
      "source": [
        "%cd /content/drive/MyDrive/Sun* AI Project/"
      ],
      "metadata": {
        "colab": {
          "base_uri": "https://localhost:8080/"
        },
        "id": "VTT6FJGXcC8w",
        "outputId": "b9eb84a9-6962-4887-a5f4-c2232eef6809"
      },
      "execution_count": 12,
      "outputs": [
        {
          "output_type": "stream",
          "name": "stdout",
          "text": [
            "/content/drive/MyDrive/Sun* AI Project\n"
          ]
        }
      ]
    },
    {
      "cell_type": "code",
      "source": [
        "%ls"
      ],
      "metadata": {
        "colab": {
          "base_uri": "https://localhost:8080/"
        },
        "id": "3uQRGHsOcRYc",
        "outputId": "4aedbcf8-4f56-4057-da28-f32eb5699110"
      },
      "execution_count": 4,
      "outputs": [
        {
          "output_type": "stream",
          "name": "stdout",
          "text": [
            "data_fpl.csv  data_fpl.gsheet  data_fpl.xlsx\n"
          ]
        }
      ]
    },
    {
      "cell_type": "code",
      "source": [
        "import pandas as pd\n",
        "pd.read_excel?"
      ],
      "metadata": {
        "id": "KJLIZl43d8TE"
      },
      "execution_count": 13,
      "outputs": []
    },
    {
      "cell_type": "code",
      "source": [
        "data_file = 'data_fpl.xlsx'\n",
        "train_data = pd.read_excel(data_file,sheet_name=0)"
      ],
      "metadata": {
        "id": "pyNjg8OxdA4q"
      },
      "execution_count": 18,
      "outputs": []
    },
    {
      "cell_type": "code",
      "source": [
        "train_data.head()"
      ],
      "metadata": {
        "colab": {
          "base_uri": "https://localhost:8080/",
          "height": 317
        },
        "id": "2tGItNIEfMhY",
        "outputId": "0fe2f0e2-334d-4518-ac45-07f2911ad1a6"
      },
      "execution_count": 7,
      "outputs": [
        {
          "output_type": "execute_result",
          "data": {
            "text/plain": [
              "   Unnamed: 0  chance_of_playing_next_round  chance_of_playing_this_round  \\\n",
              "0         0.0                         100.0                         100.0   \n",
              "1         1.0                         100.0                         100.0   \n",
              "2         2.0                         100.0                         100.0   \n",
              "3         3.0                         100.0                         100.0   \n",
              "4         4.0                         100.0                         100.0   \n",
              "\n",
              "   cost_change_event  cost_change_event_fall  cost_change_start  \\\n",
              "0                0.0                     0.0               -3.0   \n",
              "1                0.0                     0.0               -3.0   \n",
              "2                0.0                     0.0               -3.0   \n",
              "3                0.0                     0.0               -3.0   \n",
              "4                0.0                     0.0               -3.0   \n",
              "\n",
              "   cost_change_start_fall  dreamteam_count  element_type  ep_next  ...  \\\n",
              "0                     3.0              0.0           2.0      1.5  ...   \n",
              "1                     3.0              0.0           2.0      1.5  ...   \n",
              "2                     3.0              0.0           2.0      1.5  ...   \n",
              "3                     3.0              0.0           2.0      1.5  ...   \n",
              "4                     3.0              0.0           2.0      1.5  ...   \n",
              "\n",
              "   form_rank_type  points_per_game_rank  points_per_game_rank_type  \\\n",
              "0            50.0                 376.0                      141.0   \n",
              "1            50.0                 376.0                      141.0   \n",
              "2            50.0                 376.0                      141.0   \n",
              "3            50.0                 376.0                      141.0   \n",
              "4            50.0                 376.0                      141.0   \n",
              "\n",
              "   selected_rank  selected_rank_type starts_per_90 clean_sheets_per_90  \\\n",
              "0          402.0               148.0           0.0                 0.0   \n",
              "1          402.0               148.0           0.0                 0.0   \n",
              "2          402.0               148.0           0.0                 0.0   \n",
              "3          402.0               148.0           0.0                 0.0   \n",
              "4          402.0               148.0           0.0                 0.0   \n",
              "\n",
              "    opponent_team  opponent_team_difficulty  points  \n",
              "0  Crystal Palace                      10.0     0.0  \n",
              "1       Leicester                       8.0     0.0  \n",
              "2     Bournemouth                       7.0     0.0  \n",
              "3          Fulham                      12.0     0.0  \n",
              "4     Aston Villa                       9.0     0.0  \n",
              "\n",
              "[5 rows x 94 columns]"
            ],
            "text/html": [
              "\n",
              "  <div id=\"df-7a7f8cab-8775-41cb-a4de-a74bddbd9da9\">\n",
              "    <div class=\"colab-df-container\">\n",
              "      <div>\n",
              "<style scoped>\n",
              "    .dataframe tbody tr th:only-of-type {\n",
              "        vertical-align: middle;\n",
              "    }\n",
              "\n",
              "    .dataframe tbody tr th {\n",
              "        vertical-align: top;\n",
              "    }\n",
              "\n",
              "    .dataframe thead th {\n",
              "        text-align: right;\n",
              "    }\n",
              "</style>\n",
              "<table border=\"1\" class=\"dataframe\">\n",
              "  <thead>\n",
              "    <tr style=\"text-align: right;\">\n",
              "      <th></th>\n",
              "      <th>Unnamed: 0</th>\n",
              "      <th>chance_of_playing_next_round</th>\n",
              "      <th>chance_of_playing_this_round</th>\n",
              "      <th>cost_change_event</th>\n",
              "      <th>cost_change_event_fall</th>\n",
              "      <th>cost_change_start</th>\n",
              "      <th>cost_change_start_fall</th>\n",
              "      <th>dreamteam_count</th>\n",
              "      <th>element_type</th>\n",
              "      <th>ep_next</th>\n",
              "      <th>...</th>\n",
              "      <th>form_rank_type</th>\n",
              "      <th>points_per_game_rank</th>\n",
              "      <th>points_per_game_rank_type</th>\n",
              "      <th>selected_rank</th>\n",
              "      <th>selected_rank_type</th>\n",
              "      <th>starts_per_90</th>\n",
              "      <th>clean_sheets_per_90</th>\n",
              "      <th>opponent_team</th>\n",
              "      <th>opponent_team_difficulty</th>\n",
              "      <th>points</th>\n",
              "    </tr>\n",
              "  </thead>\n",
              "  <tbody>\n",
              "    <tr>\n",
              "      <th>0</th>\n",
              "      <td>0.0</td>\n",
              "      <td>100.0</td>\n",
              "      <td>100.0</td>\n",
              "      <td>0.0</td>\n",
              "      <td>0.0</td>\n",
              "      <td>-3.0</td>\n",
              "      <td>3.0</td>\n",
              "      <td>0.0</td>\n",
              "      <td>2.0</td>\n",
              "      <td>1.5</td>\n",
              "      <td>...</td>\n",
              "      <td>50.0</td>\n",
              "      <td>376.0</td>\n",
              "      <td>141.0</td>\n",
              "      <td>402.0</td>\n",
              "      <td>148.0</td>\n",
              "      <td>0.0</td>\n",
              "      <td>0.0</td>\n",
              "      <td>Crystal Palace</td>\n",
              "      <td>10.0</td>\n",
              "      <td>0.0</td>\n",
              "    </tr>\n",
              "    <tr>\n",
              "      <th>1</th>\n",
              "      <td>1.0</td>\n",
              "      <td>100.0</td>\n",
              "      <td>100.0</td>\n",
              "      <td>0.0</td>\n",
              "      <td>0.0</td>\n",
              "      <td>-3.0</td>\n",
              "      <td>3.0</td>\n",
              "      <td>0.0</td>\n",
              "      <td>2.0</td>\n",
              "      <td>1.5</td>\n",
              "      <td>...</td>\n",
              "      <td>50.0</td>\n",
              "      <td>376.0</td>\n",
              "      <td>141.0</td>\n",
              "      <td>402.0</td>\n",
              "      <td>148.0</td>\n",
              "      <td>0.0</td>\n",
              "      <td>0.0</td>\n",
              "      <td>Leicester</td>\n",
              "      <td>8.0</td>\n",
              "      <td>0.0</td>\n",
              "    </tr>\n",
              "    <tr>\n",
              "      <th>2</th>\n",
              "      <td>2.0</td>\n",
              "      <td>100.0</td>\n",
              "      <td>100.0</td>\n",
              "      <td>0.0</td>\n",
              "      <td>0.0</td>\n",
              "      <td>-3.0</td>\n",
              "      <td>3.0</td>\n",
              "      <td>0.0</td>\n",
              "      <td>2.0</td>\n",
              "      <td>1.5</td>\n",
              "      <td>...</td>\n",
              "      <td>50.0</td>\n",
              "      <td>376.0</td>\n",
              "      <td>141.0</td>\n",
              "      <td>402.0</td>\n",
              "      <td>148.0</td>\n",
              "      <td>0.0</td>\n",
              "      <td>0.0</td>\n",
              "      <td>Bournemouth</td>\n",
              "      <td>7.0</td>\n",
              "      <td>0.0</td>\n",
              "    </tr>\n",
              "    <tr>\n",
              "      <th>3</th>\n",
              "      <td>3.0</td>\n",
              "      <td>100.0</td>\n",
              "      <td>100.0</td>\n",
              "      <td>0.0</td>\n",
              "      <td>0.0</td>\n",
              "      <td>-3.0</td>\n",
              "      <td>3.0</td>\n",
              "      <td>0.0</td>\n",
              "      <td>2.0</td>\n",
              "      <td>1.5</td>\n",
              "      <td>...</td>\n",
              "      <td>50.0</td>\n",
              "      <td>376.0</td>\n",
              "      <td>141.0</td>\n",
              "      <td>402.0</td>\n",
              "      <td>148.0</td>\n",
              "      <td>0.0</td>\n",
              "      <td>0.0</td>\n",
              "      <td>Fulham</td>\n",
              "      <td>12.0</td>\n",
              "      <td>0.0</td>\n",
              "    </tr>\n",
              "    <tr>\n",
              "      <th>4</th>\n",
              "      <td>4.0</td>\n",
              "      <td>100.0</td>\n",
              "      <td>100.0</td>\n",
              "      <td>0.0</td>\n",
              "      <td>0.0</td>\n",
              "      <td>-3.0</td>\n",
              "      <td>3.0</td>\n",
              "      <td>0.0</td>\n",
              "      <td>2.0</td>\n",
              "      <td>1.5</td>\n",
              "      <td>...</td>\n",
              "      <td>50.0</td>\n",
              "      <td>376.0</td>\n",
              "      <td>141.0</td>\n",
              "      <td>402.0</td>\n",
              "      <td>148.0</td>\n",
              "      <td>0.0</td>\n",
              "      <td>0.0</td>\n",
              "      <td>Aston Villa</td>\n",
              "      <td>9.0</td>\n",
              "      <td>0.0</td>\n",
              "    </tr>\n",
              "  </tbody>\n",
              "</table>\n",
              "<p>5 rows × 94 columns</p>\n",
              "</div>\n",
              "      <button class=\"colab-df-convert\" onclick=\"convertToInteractive('df-7a7f8cab-8775-41cb-a4de-a74bddbd9da9')\"\n",
              "              title=\"Convert this dataframe to an interactive table.\"\n",
              "              style=\"display:none;\">\n",
              "        \n",
              "  <svg xmlns=\"http://www.w3.org/2000/svg\" height=\"24px\"viewBox=\"0 0 24 24\"\n",
              "       width=\"24px\">\n",
              "    <path d=\"M0 0h24v24H0V0z\" fill=\"none\"/>\n",
              "    <path d=\"M18.56 5.44l.94 2.06.94-2.06 2.06-.94-2.06-.94-.94-2.06-.94 2.06-2.06.94zm-11 1L8.5 8.5l.94-2.06 2.06-.94-2.06-.94L8.5 2.5l-.94 2.06-2.06.94zm10 10l.94 2.06.94-2.06 2.06-.94-2.06-.94-.94-2.06-.94 2.06-2.06.94z\"/><path d=\"M17.41 7.96l-1.37-1.37c-.4-.4-.92-.59-1.43-.59-.52 0-1.04.2-1.43.59L10.3 9.45l-7.72 7.72c-.78.78-.78 2.05 0 2.83L4 21.41c.39.39.9.59 1.41.59.51 0 1.02-.2 1.41-.59l7.78-7.78 2.81-2.81c.8-.78.8-2.07 0-2.86zM5.41 20L4 18.59l7.72-7.72 1.47 1.35L5.41 20z\"/>\n",
              "  </svg>\n",
              "      </button>\n",
              "      \n",
              "  <style>\n",
              "    .colab-df-container {\n",
              "      display:flex;\n",
              "      flex-wrap:wrap;\n",
              "      gap: 12px;\n",
              "    }\n",
              "\n",
              "    .colab-df-convert {\n",
              "      background-color: #E8F0FE;\n",
              "      border: none;\n",
              "      border-radius: 50%;\n",
              "      cursor: pointer;\n",
              "      display: none;\n",
              "      fill: #1967D2;\n",
              "      height: 32px;\n",
              "      padding: 0 0 0 0;\n",
              "      width: 32px;\n",
              "    }\n",
              "\n",
              "    .colab-df-convert:hover {\n",
              "      background-color: #E2EBFA;\n",
              "      box-shadow: 0px 1px 2px rgba(60, 64, 67, 0.3), 0px 1px 3px 1px rgba(60, 64, 67, 0.15);\n",
              "      fill: #174EA6;\n",
              "    }\n",
              "\n",
              "    [theme=dark] .colab-df-convert {\n",
              "      background-color: #3B4455;\n",
              "      fill: #D2E3FC;\n",
              "    }\n",
              "\n",
              "    [theme=dark] .colab-df-convert:hover {\n",
              "      background-color: #434B5C;\n",
              "      box-shadow: 0px 1px 3px 1px rgba(0, 0, 0, 0.15);\n",
              "      filter: drop-shadow(0px 1px 2px rgba(0, 0, 0, 0.3));\n",
              "      fill: #FFFFFF;\n",
              "    }\n",
              "  </style>\n",
              "\n",
              "      <script>\n",
              "        const buttonEl =\n",
              "          document.querySelector('#df-7a7f8cab-8775-41cb-a4de-a74bddbd9da9 button.colab-df-convert');\n",
              "        buttonEl.style.display =\n",
              "          google.colab.kernel.accessAllowed ? 'block' : 'none';\n",
              "\n",
              "        async function convertToInteractive(key) {\n",
              "          const element = document.querySelector('#df-7a7f8cab-8775-41cb-a4de-a74bddbd9da9');\n",
              "          const dataTable =\n",
              "            await google.colab.kernel.invokeFunction('convertToInteractive',\n",
              "                                                     [key], {});\n",
              "          if (!dataTable) return;\n",
              "\n",
              "          const docLinkHtml = 'Like what you see? Visit the ' +\n",
              "            '<a target=\"_blank\" href=https://colab.research.google.com/notebooks/data_table.ipynb>data table notebook</a>'\n",
              "            + ' to learn more about interactive tables.';\n",
              "          element.innerHTML = '';\n",
              "          dataTable['output_type'] = 'display_data';\n",
              "          await google.colab.output.renderOutput(dataTable, element);\n",
              "          const docLink = document.createElement('div');\n",
              "          docLink.innerHTML = docLinkHtml;\n",
              "          element.appendChild(docLink);\n",
              "        }\n",
              "      </script>\n",
              "    </div>\n",
              "  </div>\n",
              "  "
            ]
          },
          "metadata": {},
          "execution_count": 7
        }
      ]
    },
    {
      "cell_type": "code",
      "source": [
        "#print(test_data.columns)\n",
        "bad_cols = ['Unnamed: 0', 'in_dreamteam_original','penalties_text', 'news', 'news_added','special','squad_number','status','corners_and_indirect_freekicks_order','corners_and_indirect_freekicks_text','corners_and_indirect_freekicks_text.1','direct_freekicks_order','direct_freekicks_text','direct_freekicks_text.1','penalties_order','penalties_text','web_name','opponent_team']\n",
        "train_data = train_data.drop(bad_cols,axis=1)\n",
        "train_data = train_data.dropna()\n",
        "train_data_results = train_data[['points']].copy()\n",
        "train_data_X = train_data.drop(['points'],axis=1)\n",
        "print(len(train_data_results.columns))\n",
        "print(train_data_X.columns)"
      ],
      "metadata": {
        "colab": {
          "base_uri": "https://localhost:8080/"
        },
        "id": "hhhgeaHglLe-",
        "outputId": "a6b1f73e-b79c-4fe2-e795-c635de823794"
      },
      "execution_count": 19,
      "outputs": [
        {
          "output_type": "stream",
          "name": "stdout",
          "text": [
            "1\n",
            "Index(['chance_of_playing_next_round', 'chance_of_playing_this_round',\n",
            "       'cost_change_event', 'cost_change_event_fall', 'cost_change_start',\n",
            "       'cost_change_start_fall', 'dreamteam_count', 'element_type', 'ep_next',\n",
            "       'ep_this', 'event_points', 'form', 'in_dreamteam',\n",
            "       'News_added_days_Since_some_time', 'now_cost', 'points_per_game',\n",
            "       'selected_by_percent', 'status.1', 'team', 'team_code', 'transfers_in',\n",
            "       'transfers_in_event', 'transfers_out', 'transfers_out_event',\n",
            "       'value_form', 'value_season', 'minutes', 'goals_scored', 'assists',\n",
            "       'clean_sheets', 'goals_conceded', 'own_goals', 'penalties_saved',\n",
            "       'penalties_missed', 'yellow_cards', 'red_cards', 'saves', 'bonus',\n",
            "       'bps', 'influence', 'creativity', 'threat', 'ict_index', 'starts',\n",
            "       'expected_goals', 'expected_assists', 'expected_goal_involvements',\n",
            "       'expected_goals_conceded', 'influence_rank', 'influence_rank_type',\n",
            "       'creativity_rank', 'creativity_rank_type', 'threat_rank',\n",
            "       'threat_rank_type', 'ict_index_rank', 'ict_index_rank_type',\n",
            "       'corners_and_indirect_freekicks_order.1', 'direct_freekicks_order.1',\n",
            "       'penalties_order.1', 'expected_goals_per_90', 'saves_per_90',\n",
            "       'expected_assists_per_90', 'expected_goal_involvements_per_90',\n",
            "       'expected_goals_conceded_per_90', 'goals_conceded_per_90',\n",
            "       'now_cost_rank', 'now_cost_rank_type', 'form_rank', 'form_rank_type',\n",
            "       'points_per_game_rank', 'points_per_game_rank_type', 'selected_rank',\n",
            "       'selected_rank_type', 'starts_per_90', 'clean_sheets_per_90',\n",
            "       'opponent_team_difficulty'],\n",
            "      dtype='object')\n"
          ]
        }
      ]
    },
    {
      "cell_type": "code",
      "source": [
        "data_file = 'data_fpl.xlsx'\n",
        "test_data = pd.read_excel(data_file,sheet_name=1)"
      ],
      "metadata": {
        "id": "aAYEbbNJeql8"
      },
      "execution_count": 20,
      "outputs": []
    },
    {
      "cell_type": "markdown",
      "source": [
        "print(test_data.columns)\n",
        "test_data.head()"
      ],
      "metadata": {
        "id": "PyCwc__tf1XZ"
      }
    },
    {
      "cell_type": "code",
      "source": [
        "print(test_data.columns)\n",
        "test_data_results = test_data[['points']].copy()\n",
        "bad_columns = ['Unnamed: 0','chance_of_playing_next_round','chance_of_playing_this_round','special','status','in_dreamteam','squad_number','news','news.1','news_added','news_added.1','web_name','corners_and_indirect_freekicks_order','corners_and_indirect_freekicks_text','direct_freekicks_order','direct_freekicks_text','penalties_order','penalties_text','opponent_team','points']\n",
        "test_data_X = test_data.drop(bad_columns,axis=1)\n",
        "print(test_data.columns)\n",
        "print(len(test_data_results.columns))\n",
        "print(len(train_data_results.columns))\n",
        "print('test data X',len(test_data_X.columns))\n",
        "print('train data X', len(train_data_X.columns))\n",
        "assert len(test_data_X.columns) == len(train_data_X.columns)\n",
        "#print(train_data_X.columns)"
      ],
      "metadata": {
        "colab": {
          "base_uri": "https://localhost:8080/"
        },
        "id": "zrO6OHuDf7Vj",
        "outputId": "ec71096b-dd1c-458c-86b2-8bc4467c5559"
      },
      "execution_count": 22,
      "outputs": [
        {
          "output_type": "stream",
          "name": "stdout",
          "text": [
            "Index(['Unnamed: 0', 'chance_of_playing_next_round',\n",
            "       'chance_of_playing_next_round.1', 'chance_of_playing_this_round',\n",
            "       'chance_of_playing_this_round.1', 'cost_change_event',\n",
            "       'cost_change_event_fall', 'cost_change_start', 'cost_change_start_fall',\n",
            "       'dreamteam_count', 'element_type', 'ep_next', 'ep_this', 'event_points',\n",
            "       'form', 'in_dreamteam', 'in_dreamteam.1', 'news', 'news.1',\n",
            "       'news_added', 'news_added.1', 'news_added_converted', 'now_cost',\n",
            "       'points_per_game', 'selected_by_percent', 'special', 'squad_number',\n",
            "       'status', 'status.1', 'team', 'team_code', 'transfers_in',\n",
            "       'transfers_in_event', 'transfers_out', 'transfers_out_event',\n",
            "       'value_form', 'value_season', 'web_name', 'minutes', 'goals_scored',\n",
            "       'assists', 'clean_sheets', 'goals_conceded', 'own_goals',\n",
            "       'penalties_saved', 'penalties_missed', 'yellow_cards', 'red_cards',\n",
            "       'saves', 'bonus', 'bps', 'influence', 'creativity', 'threat',\n",
            "       'ict_index', 'starts', 'expected_goals', 'expected_assists',\n",
            "       'expected_goal_involvements', 'expected_goals_conceded',\n",
            "       'influence_rank', 'influence_rank_type', 'creativity_rank',\n",
            "       'creativity_rank_type', 'threat_rank', 'threat_rank_type',\n",
            "       'ict_index_rank', 'ict_index_rank_type',\n",
            "       'corners_and_indirect_freekicks_order',\n",
            "       'corners_and_indirect_freekicks_order.1',\n",
            "       'corners_and_indirect_freekicks_text', 'direct_freekicks_order',\n",
            "       'direct_freekicks_order.1', 'direct_freekicks_text', 'penalties_order',\n",
            "       'penalties_order.1', 'penalties_text', 'expected_goals_per_90',\n",
            "       'saves_per_90', 'expected_assists_per_90',\n",
            "       'expected_goal_involvements_per_90', 'expected_goals_conceded_per_90',\n",
            "       'goals_conceded_per_90', 'now_cost_rank', 'now_cost_rank_type',\n",
            "       'form_rank', 'form_rank_type', 'points_per_game_rank',\n",
            "       'points_per_game_rank_type', 'selected_rank', 'selected_rank_type',\n",
            "       'starts_per_90', 'clean_sheets_per_90', 'opponent_team',\n",
            "       'opponent_team_difficulty', 'points'],\n",
            "      dtype='object')\n",
            "Index(['Unnamed: 0', 'chance_of_playing_next_round',\n",
            "       'chance_of_playing_next_round.1', 'chance_of_playing_this_round',\n",
            "       'chance_of_playing_this_round.1', 'cost_change_event',\n",
            "       'cost_change_event_fall', 'cost_change_start', 'cost_change_start_fall',\n",
            "       'dreamteam_count', 'element_type', 'ep_next', 'ep_this', 'event_points',\n",
            "       'form', 'in_dreamteam', 'in_dreamteam.1', 'news', 'news.1',\n",
            "       'news_added', 'news_added.1', 'news_added_converted', 'now_cost',\n",
            "       'points_per_game', 'selected_by_percent', 'special', 'squad_number',\n",
            "       'status', 'status.1', 'team', 'team_code', 'transfers_in',\n",
            "       'transfers_in_event', 'transfers_out', 'transfers_out_event',\n",
            "       'value_form', 'value_season', 'web_name', 'minutes', 'goals_scored',\n",
            "       'assists', 'clean_sheets', 'goals_conceded', 'own_goals',\n",
            "       'penalties_saved', 'penalties_missed', 'yellow_cards', 'red_cards',\n",
            "       'saves', 'bonus', 'bps', 'influence', 'creativity', 'threat',\n",
            "       'ict_index', 'starts', 'expected_goals', 'expected_assists',\n",
            "       'expected_goal_involvements', 'expected_goals_conceded',\n",
            "       'influence_rank', 'influence_rank_type', 'creativity_rank',\n",
            "       'creativity_rank_type', 'threat_rank', 'threat_rank_type',\n",
            "       'ict_index_rank', 'ict_index_rank_type',\n",
            "       'corners_and_indirect_freekicks_order',\n",
            "       'corners_and_indirect_freekicks_order.1',\n",
            "       'corners_and_indirect_freekicks_text', 'direct_freekicks_order',\n",
            "       'direct_freekicks_order.1', 'direct_freekicks_text', 'penalties_order',\n",
            "       'penalties_order.1', 'penalties_text', 'expected_goals_per_90',\n",
            "       'saves_per_90', 'expected_assists_per_90',\n",
            "       'expected_goal_involvements_per_90', 'expected_goals_conceded_per_90',\n",
            "       'goals_conceded_per_90', 'now_cost_rank', 'now_cost_rank_type',\n",
            "       'form_rank', 'form_rank_type', 'points_per_game_rank',\n",
            "       'points_per_game_rank_type', 'selected_rank', 'selected_rank_type',\n",
            "       'starts_per_90', 'clean_sheets_per_90', 'opponent_team',\n",
            "       'opponent_team_difficulty', 'points'],\n",
            "      dtype='object')\n",
            "1\n",
            "1\n",
            "test data X 76\n",
            "train data X 76\n"
          ]
        }
      ]
    },
    {
      "cell_type": "code",
      "source": [
        "for i in range(len(test_data_X.columns)):\n",
        "  print(test_data_X.columns[i], train_data_X.columns[i])"
      ],
      "metadata": {
        "colab": {
          "base_uri": "https://localhost:8080/"
        },
        "id": "NhuwnT0egcvR",
        "outputId": "78a3e5dd-98b6-47c9-ddc8-e30f841dec24"
      },
      "execution_count": 23,
      "outputs": [
        {
          "output_type": "stream",
          "name": "stdout",
          "text": [
            "chance_of_playing_next_round.1 chance_of_playing_next_round\n",
            "chance_of_playing_this_round.1 chance_of_playing_this_round\n",
            "cost_change_event cost_change_event\n",
            "cost_change_event_fall cost_change_event_fall\n",
            "cost_change_start cost_change_start\n",
            "cost_change_start_fall cost_change_start_fall\n",
            "dreamteam_count dreamteam_count\n",
            "element_type element_type\n",
            "ep_next ep_next\n",
            "ep_this ep_this\n",
            "event_points event_points\n",
            "form form\n",
            "in_dreamteam.1 in_dreamteam\n",
            "news_added_converted News_added_days_Since_some_time\n",
            "now_cost now_cost\n",
            "points_per_game points_per_game\n",
            "selected_by_percent selected_by_percent\n",
            "status.1 status.1\n",
            "team team\n",
            "team_code team_code\n",
            "transfers_in transfers_in\n",
            "transfers_in_event transfers_in_event\n",
            "transfers_out transfers_out\n",
            "transfers_out_event transfers_out_event\n",
            "value_form value_form\n",
            "value_season value_season\n",
            "minutes minutes\n",
            "goals_scored goals_scored\n",
            "assists assists\n",
            "clean_sheets clean_sheets\n",
            "goals_conceded goals_conceded\n",
            "own_goals own_goals\n",
            "penalties_saved penalties_saved\n",
            "penalties_missed penalties_missed\n",
            "yellow_cards yellow_cards\n",
            "red_cards red_cards\n",
            "saves saves\n",
            "bonus bonus\n",
            "bps bps\n",
            "influence influence\n",
            "creativity creativity\n",
            "threat threat\n",
            "ict_index ict_index\n",
            "starts starts\n",
            "expected_goals expected_goals\n",
            "expected_assists expected_assists\n",
            "expected_goal_involvements expected_goal_involvements\n",
            "expected_goals_conceded expected_goals_conceded\n",
            "influence_rank influence_rank\n",
            "influence_rank_type influence_rank_type\n",
            "creativity_rank creativity_rank\n",
            "creativity_rank_type creativity_rank_type\n",
            "threat_rank threat_rank\n",
            "threat_rank_type threat_rank_type\n",
            "ict_index_rank ict_index_rank\n",
            "ict_index_rank_type ict_index_rank_type\n",
            "corners_and_indirect_freekicks_order.1 corners_and_indirect_freekicks_order.1\n",
            "direct_freekicks_order.1 direct_freekicks_order.1\n",
            "penalties_order.1 penalties_order.1\n",
            "expected_goals_per_90 expected_goals_per_90\n",
            "saves_per_90 saves_per_90\n",
            "expected_assists_per_90 expected_assists_per_90\n",
            "expected_goal_involvements_per_90 expected_goal_involvements_per_90\n",
            "expected_goals_conceded_per_90 expected_goals_conceded_per_90\n",
            "goals_conceded_per_90 goals_conceded_per_90\n",
            "now_cost_rank now_cost_rank\n",
            "now_cost_rank_type now_cost_rank_type\n",
            "form_rank form_rank\n",
            "form_rank_type form_rank_type\n",
            "points_per_game_rank points_per_game_rank\n",
            "points_per_game_rank_type points_per_game_rank_type\n",
            "selected_rank selected_rank\n",
            "selected_rank_type selected_rank_type\n",
            "starts_per_90 starts_per_90\n",
            "clean_sheets_per_90 clean_sheets_per_90\n",
            "opponent_team_difficulty opponent_team_difficulty\n"
          ]
        }
      ]
    },
    {
      "cell_type": "code",
      "source": [
        "#solution using library implementation\n",
        "#100% accuracy\n",
        "import numpy as np\n",
        "from sklearn.linear_model import LinearRegression\n",
        "\n",
        "#print(train_data_X.applymap(np.isfinite))\n",
        "X = train_data_X.to_numpy()\n",
        "Y = train_data_results.to_numpy()\n",
        "X_test = test_data_X.to_numpy()\n",
        "Y_test = test_data_results.to_numpy()\n",
        "#empty_rows = [i for i in range(6670,7170)]\n",
        "#X = np.delete(X,empty_rows,axis=0)\n",
        "#Y = np.delete(Y,empty_rows,axis=0)\n",
        "#print(len(X), len(Y))\n",
        "#print(X)\n",
        "model = LinearRegression()\n",
        "model.fit(X,Y)\n",
        "print(model.coef_ , model.intercept_)\n",
        "print(model.score(X_test,Y_test))\n"
      ],
      "metadata": {
        "colab": {
          "base_uri": "https://localhost:8080/"
        },
        "id": "dqrdWZurn2pj",
        "outputId": "96e8563e-e657-4f85-c6c3-9dfeb4f8352e"
      },
      "execution_count": 24,
      "outputs": [
        {
          "output_type": "stream",
          "name": "stdout",
          "text": [
            "[[-5.88817196e-04 -7.55568424e-05  2.48811345e-04 -2.40905001e-04\n",
            "  -7.91222351e-03  7.92046172e-03  4.29590813e-02 -4.64302186e-02\n",
            "  -1.57817847e-04  1.01126029e-01 -2.26535490e-02 -2.26535188e-02\n",
            "  -9.75569018e-02  2.37145460e-06  1.44487657e-02 -2.71842766e-02\n",
            "  -2.03070233e-03 -2.94887820e-02 -6.30453279e-04  2.70825899e-03\n",
            "   5.32597585e-07 -5.67827506e-06  5.68314949e-08 -3.54943949e-06\n",
            "  -5.50383735e-01  1.25485049e-01  1.70404673e-03  1.46893922e-01\n",
            "   1.17484904e-01  3.00542795e-02  7.80818178e-03 -1.82071555e-01\n",
            "   3.23101886e-01 -2.67816479e-01 -3.20618118e-03  1.67648532e-01\n",
            "   7.99801315e-03  8.89356960e-03  3.42731029e-03 -6.78098054e-03\n",
            "  -4.96873712e-03 -3.11217799e-03  4.39764266e-02 -1.35617473e-02\n",
            "   2.86018851e-02 -4.59838456e-02 -1.73818614e-02 -5.24039650e-02\n",
            "  -1.06191333e-04 -1.11172717e-03  1.59229248e-04 -6.73894531e-04\n",
            "  -1.51523377e-03  3.15531054e-03  1.98120777e-03 -2.18950695e-03\n",
            "  -3.06107119e-03  4.27614623e-03  1.35478368e-02 -4.09637087e+03\n",
            "   1.00633273e-01 -4.09611185e+03  4.09628658e+03  4.66475485e-03\n",
            "   5.64548620e-04 -9.31792484e-05  6.21928550e-04 -2.81551404e-04\n",
            "   1.10232005e-03 -3.78001140e-04 -7.33424093e-05  5.32690466e-05\n",
            "  -3.15657806e-04 -6.59480309e-03 -3.26037395e-01 -3.41674035e-02]] [-0.4105256]\n",
            "0.29102418888339765\n"
          ]
        }
      ]
    },
    {
      "cell_type": "code",
      "source": [
        "7170-6671"
      ],
      "metadata": {
        "colab": {
          "base_uri": "https://localhost:8080/"
        },
        "id": "64XBDPbNsJM8",
        "outputId": "89ee5684-1746-4294-886e-348bbcb0e1c5"
      },
      "execution_count": 32,
      "outputs": [
        {
          "output_type": "execute_result",
          "data": {
            "text/plain": [
              "499"
            ]
          },
          "metadata": {},
          "execution_count": 32
        }
      ]
    }
  ]
}